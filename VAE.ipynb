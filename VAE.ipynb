{
  "cells": [
    {
      "cell_type": "code",
      "execution_count": null,
      "metadata": {
        "id": "Puwk5YT4dNmS"
      },
      "outputs": [],
      "source": [
        "import numpy as np\n",
        "import torch\n",
        "import torch.nn as nn\n",
        "from keras.datasets import mnist\n",
        "from matplotlib import pyplot as plt\n",
        "import math\n",
        "from tqdm import tqdm\n",
        "import torchvision\n",
        "import torchvision.datasets"
      ]
    },
    {
      "cell_type": "code",
      "execution_count": null,
      "metadata": {
        "id": "ky3llD3TdNmV"
      },
      "outputs": [],
      "source": [
        "EPOCHS = 50\n",
        "DEVICE = \"cuda\" if torch.cuda.is_available() else \"cpu\"\n",
        "MODELS = []\n",
        "BATCH_SIZE = 100"
      ]
    },
    {
      "cell_type": "code",
      "execution_count": null,
      "metadata": {
        "id": "tPncJpRfdNmW",
        "colab": {
          "base_uri": "https://localhost:8080/"
        },
        "outputId": "82023dcd-de26-4dac-effc-2962c5b39224"
      },
      "outputs": [
        {
          "output_type": "stream",
          "name": "stdout",
          "text": [
            "Downloading http://yann.lecun.com/exdb/mnist/train-images-idx3-ubyte.gz\n",
            "Downloading http://yann.lecun.com/exdb/mnist/train-images-idx3-ubyte.gz to ./data/MNIST/raw/train-images-idx3-ubyte.gz\n"
          ]
        },
        {
          "output_type": "stream",
          "name": "stderr",
          "text": [
            "100%|██████████| 9912422/9912422 [00:00<00:00, 143346726.77it/s]\n"
          ]
        },
        {
          "output_type": "stream",
          "name": "stdout",
          "text": [
            "Extracting ./data/MNIST/raw/train-images-idx3-ubyte.gz to ./data/MNIST/raw\n",
            "\n",
            "Downloading http://yann.lecun.com/exdb/mnist/train-labels-idx1-ubyte.gz\n",
            "Downloading http://yann.lecun.com/exdb/mnist/train-labels-idx1-ubyte.gz to ./data/MNIST/raw/train-labels-idx1-ubyte.gz\n"
          ]
        },
        {
          "output_type": "stream",
          "name": "stderr",
          "text": [
            "100%|██████████| 28881/28881 [00:00<00:00, 22946712.22it/s]\n"
          ]
        },
        {
          "output_type": "stream",
          "name": "stdout",
          "text": [
            "Extracting ./data/MNIST/raw/train-labels-idx1-ubyte.gz to ./data/MNIST/raw\n",
            "\n",
            "Downloading http://yann.lecun.com/exdb/mnist/t10k-images-idx3-ubyte.gz\n",
            "Downloading http://yann.lecun.com/exdb/mnist/t10k-images-idx3-ubyte.gz to ./data/MNIST/raw/t10k-images-idx3-ubyte.gz\n"
          ]
        },
        {
          "output_type": "stream",
          "name": "stderr",
          "text": [
            "100%|██████████| 1648877/1648877 [00:00<00:00, 50757718.34it/s]"
          ]
        },
        {
          "output_type": "stream",
          "name": "stdout",
          "text": [
            "Extracting ./data/MNIST/raw/t10k-images-idx3-ubyte.gz to ./data/MNIST/raw\n"
          ]
        },
        {
          "output_type": "stream",
          "name": "stderr",
          "text": [
            "\n"
          ]
        },
        {
          "output_type": "stream",
          "name": "stdout",
          "text": [
            "\n",
            "Downloading http://yann.lecun.com/exdb/mnist/t10k-labels-idx1-ubyte.gz\n",
            "Downloading http://yann.lecun.com/exdb/mnist/t10k-labels-idx1-ubyte.gz to ./data/MNIST/raw/t10k-labels-idx1-ubyte.gz\n"
          ]
        },
        {
          "output_type": "stream",
          "name": "stderr",
          "text": [
            "100%|██████████| 4542/4542 [00:00<00:00, 18424109.06it/s]\n"
          ]
        },
        {
          "output_type": "stream",
          "name": "stdout",
          "text": [
            "Extracting ./data/MNIST/raw/t10k-labels-idx1-ubyte.gz to ./data/MNIST/raw\n",
            "\n"
          ]
        }
      ],
      "source": [
        "trainset = torchvision.datasets.MNIST(root='./data', train=True, download=True, transform=torchvision.transforms.ToTensor())\n",
        "testset = torchvision.datasets.MNIST(root='./data', train=False, download=True, transform=torchvision.transforms.ToTensor())"
      ]
    },
    {
      "cell_type": "code",
      "execution_count": null,
      "metadata": {
        "id": "yJj1VB2ddNmW",
        "colab": {
          "base_uri": "https://localhost:8080/",
          "height": 430
        },
        "outputId": "5e98fec1-a93d-4c35-e164-165c2a6fbbc0"
      },
      "outputs": [
        {
          "output_type": "display_data",
          "data": {
            "text/plain": [
              "<Figure size 640x480 with 1 Axes>"
            ],
            "image/png": "[encoded data removed]"
          },
          "metadata": {}
        }
      ],
      "source": [
        "plt.subplot()\n",
        "plt.imshow(trainset[0][0].squeeze(0), cmap=plt.get_cmap('gray'))\n",
        "plt.show()"
      ]
    },
    {
      "cell_type": "code",
      "execution_count": null,
      "metadata": {
        "id": "kfgQ7V7V-FPR"
      },
      "outputs": [],
      "source": [
        "#DataLoader\n",
        "from torch.utils.data import DataLoader\n",
        "\n",
        "train_dataloader = DataLoader(dataset = trainset,\n",
        "                              batch_size = BATCH_SIZE,\n",
        "                              shuffle = True)\n",
        "\n",
        "test_dataloader = DataLoader(dataset = testset,\n",
        "                              batch_size = BATCH_SIZE,\n",
        "                              shuffle = False)"
      ]
    },
    {
      "cell_type": "code",
      "execution_count": null,
      "metadata": {
        "id": "V_Nx3FEgdNmW"
      },
      "outputs": [],
      "source": [
        "class LatentfromX(nn.Module):\n",
        "    def __init__(self, input_channels, latent_dims):\n",
        "        super().__init__()\n",
        "        self.stack = nn.Sequential(\n",
        "            nn.Linear(in_features = input_channels, out_features = 256),\n",
        "            nn.Tanh(),\n",
        "            nn.Linear(in_features = 256, out_features = 64),\n",
        "            nn.Tanh()\n",
        "        )\n",
        "        self.mean_layer = nn.Sequential(\n",
        "            nn.Linear(in_features = 64, out_features = latent_dims),\n",
        "            nn.Tanh()\n",
        "        )\n",
        "        self.log_var_layer = nn.Sequential(\n",
        "            nn.Linear(in_features=64, out_features=latent_dims),\n",
        "            nn.Tanh()\n",
        "        )\n",
        "\n",
        "    def forward(self, z):\n",
        "        z = self.stack(z)\n",
        "        return self.mean_layer(z), self.log_var_layer(z)"
      ]
    },
    {
      "cell_type": "code",
      "execution_count": null,
      "metadata": {
        "id": "9CriqVy-dNmX"
      },
      "outputs": [],
      "source": [
        "class ReconstructFromLatent(nn.Module):\n",
        "    def __init__(self, latent_dims, output_dims):\n",
        "        super().__init__()\n",
        "        self.stack = nn.Sequential(\n",
        "            nn.Linear(in_features=latent_dims, out_features=196),\n",
        "            nn.Tanh(),\n",
        "            nn.Linear(in_features=196, out_features=256),\n",
        "            nn.Tanh(),\n",
        "            nn.Linear(in_features=256, out_features=576),\n",
        "            nn.Tanh(),\n",
        "        )\n",
        "        self.reconstruct = nn.Sequential(\n",
        "            nn.Linear(in_features=576, out_features=output_dims),\n",
        "            nn.Sigmoid(),\n",
        "        )\n",
        "\n",
        "    def forward(self, x):\n",
        "        x = self.stack(x)\n",
        "        return self.reconstruct(x)"
      ]
    },
    {
      "cell_type": "code",
      "execution_count": null,
      "metadata": {
        "id": "2P9Yq3dSdNma"
      },
      "outputs": [],
      "source": [
        "class VAE(nn.Module):\n",
        "    def __init__(self, latent_dims):\n",
        "        super().__init__()\n",
        "        #q(z|x)\n",
        "        self.qz_x = LatentfromX(input_channels=28*28, latent_dims=latent_dims)\n",
        "        #p(x|z)\n",
        "        self.px_z = ReconstructFromLatent(latent_dims=latent_dims, output_dims=28*28)\n",
        "\n",
        "    def forward(self, x):\n",
        "        z_mean, z_log_var = self.qz_x(x)\n",
        "        reparameterized = z_mean + (torch.exp(z_log_var * 0.5) * torch.randn_like(z_log_var).to(DEVICE))\n",
        "        reconstructed_x = self.px_z(reparameterized)\n",
        "        return z_mean, z_log_var, reconstructed_x"
      ]
    },
    {
      "cell_type": "code",
      "execution_count": null,
      "metadata": {
        "id": "ku2a_eYXdNmb",
        "colab": {
          "base_uri": "https://localhost:8080/"
        },
        "outputId": "5732fc36-452c-43f1-ad3b-6b34eccbcd91"
      },
      "outputs": [
        {
          "output_type": "stream",
          "name": "stderr",
          "text": [
            "600it [00:18, 32.03it/s]\n"
          ]
        },
        {
          "output_type": "stream",
          "name": "stdout",
          "text": [
            "\n",
            "latent_dim: 2 | epoch: 1 | re_loss: 2995016.25 | kl_div: 53619.48 | loss: 3048635.75\n"
          ]
        },
        {
          "output_type": "stream",
          "name": "stderr",
          "text": [
            "600it [00:07, 75.22it/s]\n"
          ]
        },
        {
          "output_type": "stream",
          "name": "stdout",
          "text": [
            "\n",
            "latent_dim: 2 | epoch: 2 | re_loss: 2811449.25 | kl_div: 65523.85 | loss: 2876973.00\n"
          ]
        },
        {
          "output_type": "stream",
          "name": "stderr",
          "text": [
            "600it [00:08, 69.46it/s]\n"
          ]
        },
        {
          "output_type": "stream",
          "name": "stdout",
          "text": [
            "\n",
            "latent_dim: 2 | epoch: 3 | re_loss: 2803073.50 | kl_div: 64915.28 | loss: 2867988.75\n"
          ]
        },
        {
          "output_type": "stream",
          "name": "stderr",
          "text": [
            "600it [00:08, 69.80it/s]\n"
          ]
        },
        {
          "output_type": "stream",
          "name": "stdout",
          "text": [
            "\n",
            "latent_dim: 2 | epoch: 4 | re_loss: 2799218.75 | kl_div: 65219.93 | loss: 2864438.75\n"
          ]
        },
        {
          "output_type": "stream",
          "name": "stderr",
          "text": [
            "600it [00:08, 73.27it/s]\n"
          ]
        },
        {
          "output_type": "stream",
          "name": "stdout",
          "text": [
            "\n",
            "latent_dim: 2 | epoch: 5 | re_loss: 2795177.75 | kl_div: 65010.70 | loss: 2860188.50\n"
          ]
        },
        {
          "output_type": "stream",
          "name": "stderr",
          "text": [
            "600it [00:08, 70.83it/s]\n"
          ]
        },
        {
          "output_type": "stream",
          "name": "stdout",
          "text": [
            "\n",
            "latent_dim: 2 | epoch: 6 | re_loss: 2792918.25 | kl_div: 65129.19 | loss: 2858047.50\n"
          ]
        },
        {
          "output_type": "stream",
          "name": "stderr",
          "text": [
            "600it [00:08, 70.81it/s]\n"
          ]
        },
        {
          "output_type": "stream",
          "name": "stdout",
          "text": [
            "\n",
            "latent_dim: 2 | epoch: 7 | re_loss: 2793641.00 | kl_div: 65307.65 | loss: 2858948.75\n"
          ]
        },
        {
          "output_type": "stream",
          "name": "stderr",
          "text": [
            "600it [00:08, 69.98it/s]\n"
          ]
        },
        {
          "output_type": "stream",
          "name": "stdout",
          "text": [
            "\n",
            "latent_dim: 2 | epoch: 8 | re_loss: 2791669.00 | kl_div: 65240.39 | loss: 2856909.50\n"
          ]
        },
        {
          "output_type": "stream",
          "name": "stderr",
          "text": [
            "600it [00:07, 75.79it/s]\n"
          ]
        },
        {
          "output_type": "stream",
          "name": "stdout",
          "text": [
            "\n",
            "latent_dim: 2 | epoch: 9 | re_loss: 2790400.00 | kl_div: 65041.04 | loss: 2855441.00\n"
          ]
        },
        {
          "output_type": "stream",
          "name": "stderr",
          "text": [
            "600it [00:08, 69.91it/s]\n"
          ]
        },
        {
          "output_type": "stream",
          "name": "stdout",
          "text": [
            "\n",
            "latent_dim: 2 | epoch: 10 | re_loss: 2790287.00 | kl_div: 65121.34 | loss: 2855408.25\n"
          ]
        },
        {
          "output_type": "stream",
          "name": "stderr",
          "text": [
            "600it [00:08, 70.58it/s]\n"
          ]
        },
        {
          "output_type": "stream",
          "name": "stdout",
          "text": [
            "\n",
            "latent_dim: 4 | epoch: 1 | re_loss: 2977452.25 | kl_div: 76013.19 | loss: 3053465.50\n"
          ]
        },
        {
          "output_type": "stream",
          "name": "stderr",
          "text": [
            "600it [00:07, 76.34it/s]\n"
          ]
        },
        {
          "output_type": "stream",
          "name": "stdout",
          "text": [
            "\n",
            "latent_dim: 4 | epoch: 2 | re_loss: 2526830.75 | kl_div: 132363.21 | loss: 2659194.00\n"
          ]
        },
        {
          "output_type": "stream",
          "name": "stderr",
          "text": [
            "600it [00:09, 63.30it/s]\n"
          ]
        },
        {
          "output_type": "stream",
          "name": "stdout",
          "text": [
            "\n",
            "latent_dim: 4 | epoch: 3 | re_loss: 2480271.25 | kl_div: 137578.66 | loss: 2617850.00\n"
          ]
        },
        {
          "output_type": "stream",
          "name": "stderr",
          "text": [
            "600it [00:08, 70.55it/s]\n"
          ]
        },
        {
          "output_type": "stream",
          "name": "stdout",
          "text": [
            "\n",
            "latent_dim: 4 | epoch: 4 | re_loss: 2466542.75 | kl_div: 139097.58 | loss: 2605640.25\n"
          ]
        },
        {
          "output_type": "stream",
          "name": "stderr",
          "text": [
            "600it [00:08, 69.49it/s]\n"
          ]
        },
        {
          "output_type": "stream",
          "name": "stdout",
          "text": [
            "\n",
            "latent_dim: 4 | epoch: 5 | re_loss: 2459998.25 | kl_div: 140074.46 | loss: 2600072.75\n"
          ]
        },
        {
          "output_type": "stream",
          "name": "stderr",
          "text": [
            "600it [00:07, 75.66it/s]\n"
          ]
        },
        {
          "output_type": "stream",
          "name": "stdout",
          "text": [
            "\n",
            "latent_dim: 4 | epoch: 6 | re_loss: 2453287.25 | kl_div: 139821.73 | loss: 2593109.00\n"
          ]
        },
        {
          "output_type": "stream",
          "name": "stderr",
          "text": [
            "600it [00:08, 69.80it/s]\n"
          ]
        },
        {
          "output_type": "stream",
          "name": "stdout",
          "text": [
            "\n",
            "latent_dim: 4 | epoch: 7 | re_loss: 2453969.00 | kl_div: 140593.71 | loss: 2594562.75\n"
          ]
        },
        {
          "output_type": "stream",
          "name": "stderr",
          "text": [
            "600it [00:08, 69.20it/s]\n"
          ]
        },
        {
          "output_type": "stream",
          "name": "stdout",
          "text": [
            "\n",
            "latent_dim: 4 | epoch: 8 | re_loss: 2446387.00 | kl_div: 140841.82 | loss: 2587228.75\n"
          ]
        },
        {
          "output_type": "stream",
          "name": "stderr",
          "text": [
            "600it [00:08, 74.70it/s]\n"
          ]
        },
        {
          "output_type": "stream",
          "name": "stdout",
          "text": [
            "\n",
            "latent_dim: 4 | epoch: 9 | re_loss: 2444381.25 | kl_div: 140737.83 | loss: 2585119.00\n"
          ]
        },
        {
          "output_type": "stream",
          "name": "stderr",
          "text": [
            "600it [00:08, 69.89it/s]\n"
          ]
        },
        {
          "output_type": "stream",
          "name": "stdout",
          "text": [
            "\n",
            "latent_dim: 4 | epoch: 10 | re_loss: 2441355.00 | kl_div: 140997.53 | loss: 2582352.50\n"
          ]
        },
        {
          "output_type": "stream",
          "name": "stderr",
          "text": [
            "600it [00:08, 69.78it/s]\n"
          ]
        },
        {
          "output_type": "stream",
          "name": "stdout",
          "text": [
            "\n",
            "latent_dim: 8 | epoch: 1 | re_loss: 2956291.75 | kl_div: 103647.61 | loss: 3059939.25\n"
          ]
        },
        {
          "output_type": "stream",
          "name": "stderr",
          "text": [
            "600it [00:08, 74.18it/s]\n"
          ]
        },
        {
          "output_type": "stream",
          "name": "stdout",
          "text": [
            "\n",
            "latent_dim: 8 | epoch: 2 | re_loss: 2268419.50 | kl_div: 236023.48 | loss: 2504443.00\n"
          ]
        },
        {
          "output_type": "stream",
          "name": "stderr",
          "text": [
            "600it [00:08, 73.21it/s]\n"
          ]
        },
        {
          "output_type": "stream",
          "name": "stdout",
          "text": [
            "\n",
            "latent_dim: 8 | epoch: 3 | re_loss: 2129571.75 | kl_div: 260387.01 | loss: 2389958.75\n"
          ]
        },
        {
          "output_type": "stream",
          "name": "stderr",
          "text": [
            "600it [00:08, 70.47it/s]\n"
          ]
        },
        {
          "output_type": "stream",
          "name": "stdout",
          "text": [
            "\n",
            "latent_dim: 8 | epoch: 4 | re_loss: 2079525.50 | kl_div: 269873.64 | loss: 2349399.00\n"
          ]
        },
        {
          "output_type": "stream",
          "name": "stderr",
          "text": [
            "600it [00:08, 70.09it/s]\n"
          ]
        },
        {
          "output_type": "stream",
          "name": "stdout",
          "text": [
            "\n",
            "latent_dim: 8 | epoch: 5 | re_loss: 2055713.62 | kl_div: 274751.76 | loss: 2330465.50\n"
          ]
        },
        {
          "output_type": "stream",
          "name": "stderr",
          "text": [
            "600it [00:07, 75.10it/s]\n"
          ]
        },
        {
          "output_type": "stream",
          "name": "stdout",
          "text": [
            "\n",
            "latent_dim: 8 | epoch: 6 | re_loss: 2042588.88 | kl_div: 277742.55 | loss: 2320331.50\n"
          ]
        },
        {
          "output_type": "stream",
          "name": "stderr",
          "text": [
            "600it [00:08, 70.57it/s]\n"
          ]
        },
        {
          "output_type": "stream",
          "name": "stdout",
          "text": [
            "\n",
            "latent_dim: 8 | epoch: 7 | re_loss: 2034475.00 | kl_div: 279557.81 | loss: 2314032.75\n"
          ]
        },
        {
          "output_type": "stream",
          "name": "stderr",
          "text": [
            "600it [00:08, 69.68it/s]\n"
          ]
        },
        {
          "output_type": "stream",
          "name": "stdout",
          "text": [
            "\n",
            "latent_dim: 8 | epoch: 8 | re_loss: 2026423.38 | kl_div: 280695.86 | loss: 2307119.25\n"
          ]
        },
        {
          "output_type": "stream",
          "name": "stderr",
          "text": [
            "600it [00:08, 74.03it/s]\n"
          ]
        },
        {
          "output_type": "stream",
          "name": "stdout",
          "text": [
            "\n",
            "latent_dim: 8 | epoch: 9 | re_loss: 2021199.50 | kl_div: 282035.76 | loss: 2303235.25\n"
          ]
        },
        {
          "output_type": "stream",
          "name": "stderr",
          "text": [
            "600it [00:08, 69.80it/s]\n"
          ]
        },
        {
          "output_type": "stream",
          "name": "stdout",
          "text": [
            "\n",
            "latent_dim: 8 | epoch: 10 | re_loss: 2013255.88 | kl_div: 282647.47 | loss: 2295903.25\n"
          ]
        },
        {
          "output_type": "stream",
          "name": "stderr",
          "text": [
            "600it [00:08, 70.54it/s]\n"
          ]
        },
        {
          "output_type": "stream",
          "name": "stdout",
          "text": [
            "\n",
            "latent_dim: 16 | epoch: 1 | re_loss: 2996003.50 | kl_div: 102113.15 | loss: 3098116.75\n"
          ]
        },
        {
          "output_type": "stream",
          "name": "stderr",
          "text": [
            "600it [00:08, 72.50it/s]\n"
          ]
        },
        {
          "output_type": "stream",
          "name": "stdout",
          "text": [
            "\n",
            "latent_dim: 16 | epoch: 2 | re_loss: 2218365.25 | kl_div: 286808.63 | loss: 2505174.00\n"
          ]
        },
        {
          "output_type": "stream",
          "name": "stderr",
          "text": [
            "600it [00:08, 72.31it/s]\n"
          ]
        },
        {
          "output_type": "stream",
          "name": "stdout",
          "text": [
            "\n",
            "latent_dim: 16 | epoch: 3 | re_loss: 2009243.50 | kl_div: 345643.28 | loss: 2354886.75\n"
          ]
        },
        {
          "output_type": "stream",
          "name": "stderr",
          "text": [
            "600it [00:08, 69.32it/s]\n"
          ]
        },
        {
          "output_type": "stream",
          "name": "stdout",
          "text": [
            "\n",
            "latent_dim: 16 | epoch: 4 | re_loss: 1908381.50 | kl_div: 379128.98 | loss: 2287510.50\n"
          ]
        },
        {
          "output_type": "stream",
          "name": "stderr",
          "text": [
            "600it [00:08, 68.76it/s]\n"
          ]
        },
        {
          "output_type": "stream",
          "name": "stdout",
          "text": [
            "\n",
            "latent_dim: 16 | epoch: 5 | re_loss: 1835380.12 | kl_div: 408778.07 | loss: 2244158.25\n"
          ]
        },
        {
          "output_type": "stream",
          "name": "stderr",
          "text": [
            "600it [00:07, 75.16it/s]\n"
          ]
        },
        {
          "output_type": "stream",
          "name": "stdout",
          "text": [
            "\n",
            "latent_dim: 16 | epoch: 6 | re_loss: 1780070.75 | kl_div: 425872.21 | loss: 2205943.00\n"
          ]
        },
        {
          "output_type": "stream",
          "name": "stderr",
          "text": [
            "600it [00:09, 66.14it/s]\n"
          ]
        },
        {
          "output_type": "stream",
          "name": "stdout",
          "text": [
            "\n",
            "latent_dim: 16 | epoch: 7 | re_loss: 1749612.38 | kl_div: 435054.31 | loss: 2184666.75\n"
          ]
        },
        {
          "output_type": "stream",
          "name": "stderr",
          "text": [
            "600it [00:08, 68.76it/s]\n"
          ]
        },
        {
          "output_type": "stream",
          "name": "stdout",
          "text": [
            "\n",
            "latent_dim: 16 | epoch: 8 | re_loss: 1723088.00 | kl_div: 441938.92 | loss: 2165027.00\n"
          ]
        },
        {
          "output_type": "stream",
          "name": "stderr",
          "text": [
            "600it [00:08, 72.29it/s]\n"
          ]
        },
        {
          "output_type": "stream",
          "name": "stdout",
          "text": [
            "\n",
            "latent_dim: 16 | epoch: 9 | re_loss: 1704116.50 | kl_div: 447952.48 | loss: 2152069.00\n"
          ]
        },
        {
          "output_type": "stream",
          "name": "stderr",
          "text": [
            "600it [00:08, 71.23it/s]\n"
          ]
        },
        {
          "output_type": "stream",
          "name": "stdout",
          "text": [
            "\n",
            "latent_dim: 16 | epoch: 10 | re_loss: 1686924.75 | kl_div: 453812.32 | loss: 2140737.00\n"
          ]
        },
        {
          "output_type": "stream",
          "name": "stderr",
          "text": [
            "600it [00:08, 70.48it/s]\n"
          ]
        },
        {
          "output_type": "stream",
          "name": "stdout",
          "text": [
            "\n",
            "latent_dim: 32 | epoch: 1 | re_loss: 2879831.25 | kl_div: 152036.09 | loss: 3031867.25\n"
          ]
        },
        {
          "output_type": "stream",
          "name": "stderr",
          "text": [
            "600it [00:08, 70.00it/s]\n"
          ]
        },
        {
          "output_type": "stream",
          "name": "stdout",
          "text": [
            "\n",
            "latent_dim: 32 | epoch: 2 | re_loss: 2112567.75 | kl_div: 363207.58 | loss: 2475775.25\n"
          ]
        },
        {
          "output_type": "stream",
          "name": "stderr",
          "text": [
            "600it [00:07, 76.17it/s]\n"
          ]
        },
        {
          "output_type": "stream",
          "name": "stdout",
          "text": [
            "\n",
            "latent_dim: 32 | epoch: 3 | re_loss: 1939917.75 | kl_div: 415631.36 | loss: 2355549.00\n"
          ]
        },
        {
          "output_type": "stream",
          "name": "stderr",
          "text": [
            "600it [00:08, 69.96it/s]\n"
          ]
        },
        {
          "output_type": "stream",
          "name": "stdout",
          "text": [
            "\n",
            "latent_dim: 32 | epoch: 4 | re_loss: 1803856.62 | kl_div: 458948.80 | loss: 2262805.50\n"
          ]
        },
        {
          "output_type": "stream",
          "name": "stderr",
          "text": [
            "600it [00:08, 69.39it/s]\n"
          ]
        },
        {
          "output_type": "stream",
          "name": "stdout",
          "text": [
            "\n",
            "latent_dim: 32 | epoch: 5 | re_loss: 1726459.12 | kl_div: 483138.92 | loss: 2209598.00\n"
          ]
        },
        {
          "output_type": "stream",
          "name": "stderr",
          "text": [
            "600it [00:08, 74.40it/s]\n"
          ]
        },
        {
          "output_type": "stream",
          "name": "stdout",
          "text": [
            "\n",
            "latent_dim: 32 | epoch: 6 | re_loss: 1683927.25 | kl_div: 495340.22 | loss: 2179267.50\n"
          ]
        },
        {
          "output_type": "stream",
          "name": "stderr",
          "text": [
            "600it [00:08, 69.55it/s]\n"
          ]
        },
        {
          "output_type": "stream",
          "name": "stdout",
          "text": [
            "\n",
            "latent_dim: 32 | epoch: 7 | re_loss: 1651526.38 | kl_div: 505162.69 | loss: 2156689.00\n"
          ]
        },
        {
          "output_type": "stream",
          "name": "stderr",
          "text": [
            "600it [00:08, 69.48it/s]\n"
          ]
        },
        {
          "output_type": "stream",
          "name": "stdout",
          "text": [
            "\n",
            "latent_dim: 32 | epoch: 8 | re_loss: 1631721.75 | kl_div: 511103.12 | loss: 2142825.00\n"
          ]
        },
        {
          "output_type": "stream",
          "name": "stderr",
          "text": [
            "600it [00:08, 71.93it/s]\n"
          ]
        },
        {
          "output_type": "stream",
          "name": "stdout",
          "text": [
            "\n",
            "latent_dim: 32 | epoch: 9 | re_loss: 1612597.38 | kl_div: 516389.95 | loss: 2128987.25\n"
          ]
        },
        {
          "output_type": "stream",
          "name": "stderr",
          "text": [
            "600it [00:08, 72.71it/s]\n"
          ]
        },
        {
          "output_type": "stream",
          "name": "stdout",
          "text": [
            "\n",
            "latent_dim: 32 | epoch: 10 | re_loss: 1599412.88 | kl_div: 521388.27 | loss: 2120801.25\n"
          ]
        },
        {
          "output_type": "stream",
          "name": "stderr",
          "text": [
            "600it [00:08, 70.79it/s]\n"
          ]
        },
        {
          "output_type": "stream",
          "name": "stdout",
          "text": [
            "\n",
            "latent_dim: 64 | epoch: 1 | re_loss: 3009975.75 | kl_div: 132527.76 | loss: 3142503.50\n"
          ]
        },
        {
          "output_type": "stream",
          "name": "stderr",
          "text": [
            "600it [00:08, 71.23it/s]\n"
          ]
        },
        {
          "output_type": "stream",
          "name": "stdout",
          "text": [
            "\n",
            "latent_dim: 64 | epoch: 2 | re_loss: 2206798.25 | kl_div: 346500.72 | loss: 2553299.00\n"
          ]
        },
        {
          "output_type": "stream",
          "name": "stderr",
          "text": [
            "600it [00:08, 74.91it/s]\n"
          ]
        },
        {
          "output_type": "stream",
          "name": "stdout",
          "text": [
            "\n",
            "latent_dim: 64 | epoch: 3 | re_loss: 1967682.75 | kl_div: 415353.66 | loss: 2383036.50\n"
          ]
        },
        {
          "output_type": "stream",
          "name": "stderr",
          "text": [
            "600it [00:08, 69.92it/s]\n"
          ]
        },
        {
          "output_type": "stream",
          "name": "stdout",
          "text": [
            "\n",
            "latent_dim: 64 | epoch: 4 | re_loss: 1843470.88 | kl_div: 445849.09 | loss: 2289320.00\n"
          ]
        },
        {
          "output_type": "stream",
          "name": "stderr",
          "text": [
            "600it [00:08, 70.19it/s]\n"
          ]
        },
        {
          "output_type": "stream",
          "name": "stdout",
          "text": [
            "\n",
            "latent_dim: 64 | epoch: 5 | re_loss: 1769971.00 | kl_div: 464995.01 | loss: 2234966.00\n"
          ]
        },
        {
          "output_type": "stream",
          "name": "stderr",
          "text": [
            "600it [00:07, 75.39it/s]\n"
          ]
        },
        {
          "output_type": "stream",
          "name": "stdout",
          "text": [
            "\n",
            "latent_dim: 64 | epoch: 6 | re_loss: 1732060.50 | kl_div: 472657.19 | loss: 2204717.75\n"
          ]
        },
        {
          "output_type": "stream",
          "name": "stderr",
          "text": [
            "600it [00:08, 69.54it/s]\n"
          ]
        },
        {
          "output_type": "stream",
          "name": "stdout",
          "text": [
            "\n",
            "latent_dim: 64 | epoch: 7 | re_loss: 1700359.50 | kl_div: 482078.74 | loss: 2182438.25\n"
          ]
        },
        {
          "output_type": "stream",
          "name": "stderr",
          "text": [
            "600it [00:08, 69.26it/s]\n"
          ]
        },
        {
          "output_type": "stream",
          "name": "stdout",
          "text": [
            "\n",
            "latent_dim: 64 | epoch: 8 | re_loss: 1672639.62 | kl_div: 488377.16 | loss: 2161016.75\n"
          ]
        },
        {
          "output_type": "stream",
          "name": "stderr",
          "text": [
            "600it [00:08, 72.82it/s]\n"
          ]
        },
        {
          "output_type": "stream",
          "name": "stdout",
          "text": [
            "\n",
            "latent_dim: 64 | epoch: 9 | re_loss: 1650051.62 | kl_div: 496345.62 | loss: 2146397.25\n"
          ]
        },
        {
          "output_type": "stream",
          "name": "stderr",
          "text": [
            "600it [00:08, 71.43it/s]"
          ]
        },
        {
          "output_type": "stream",
          "name": "stdout",
          "text": [
            "\n",
            "latent_dim: 64 | epoch: 10 | re_loss: 1632680.75 | kl_div: 499505.36 | loss: 2132186.00\n"
          ]
        },
        {
          "output_type": "stream",
          "name": "stderr",
          "text": [
            "\n"
          ]
        }
      ],
      "source": [
        "reconstruction_error_history = []\n",
        "kl_div_error_history= []\n",
        "total_error_history = []\n",
        "for i in range(6):\n",
        "  reconstruction_error_history.append([])\n",
        "  kl_div_error_history.append([])\n",
        "  total_error_history.append([])\n",
        "  latent_dims = 2**(i+1)\n",
        "  VAEModel = VAE(latent_dims=latent_dims).to(DEVICE)\n",
        "  optimizer = torch.optim.Adam(params=VAEModel.parameters(), lr=1e-3)\n",
        "  loss_fn = nn.MSELoss(reduction=\"sum\")\n",
        "  VAEModel.train()\n",
        "  for epoch in (range(EPOCHS)):\n",
        "      loss=0\n",
        "      total_reconstruction_error = 0\n",
        "      total_kl_div_error = 0\n",
        "      total_error = 0\n",
        "      for batch, (x,y) in tqdm(enumerate(train_dataloader)):\n",
        "          x=x.view(BATCH_SIZE, 28*28).to(DEVICE)\n",
        "          z_mean, z_log_var, reconstructed_x = VAEModel(x.to(DEVICE))\n",
        "\n",
        "          reconstruction_error = loss_fn(reconstructed_x.to(DEVICE), x.flatten(start_dim=1).to(DEVICE))\n",
        "          kl_div_error = torch.sum(0.5*torch.sum(torch.exp(z_log_var) + z_mean**2 -1 - z_log_var, dim=-1))\n",
        "          loss=reconstruction_error+kl_div_error\n",
        "\n",
        "          total_reconstruction_error += reconstruction_error)\n",
        "          total_kl_div_error += torch.mean(kl_div_error).item()\n",
        "\n",
        "          optimizer.zero_grad()\n",
        "          loss.backward()\n",
        "          optimizer.step()\n",
        "\n",
        "      total_error = total_reconstruction_error + total_kl_div_error\n",
        "\n",
        "      reconstruction_error_history[i].append(total_reconstruction_error)\n",
        "      kl_div_error_history[i].append(total_kl_div_error)\n",
        "      total_error_history[i].append(total_error)\n",
        "\n",
        "      print(f\"\\nlatent_dim: {latent_dims} | epoch: {epoch+1} | re_loss: {total_reconstruction_error:.2f} | kl_div: {total_kl_div_error:.2f} | loss: {total_error:.2f}\")\n",
        "  MODELS.append(VAEModel)\n"
      ]
    },
    {
      "cell_type": "code",
      "source": [
        "fig = plt.figure(figsize = (13, 13))\n",
        "rows, cols = 7, 5\n",
        "\n",
        "test_features_batch, test_labels_batch = next(iter(test_dataloader))\n",
        "for j in range(5):\n",
        "  fig.add_subplot(rows, cols, j+1)\n",
        "  plt.imshow(test_features_batch[j].squeeze(), cmap=\"gray\")\n",
        "  plt.title(\"Original\")\n",
        "  plt.axis(False)\n",
        "  plt.subplots_adjust(hspace=0.4)\n",
        "\n",
        "plt.savefig('plot_og.png')\n",
        "for k,model in enumerate(MODELS):\n",
        "  model.eval()\n",
        "\n",
        "  with torch.inference_mode():\n",
        "    _,_,re_x = model(test_features_batch.flatten(start_dim=1).to(DEVICE))\n",
        "\n",
        "  for j in range(5):\n",
        "    re_x_shaped=re_x[j].reshape(28,28)\n",
        "\n",
        "    fig.add_subplot(rows, cols, (k+1)*5+(j+1))\n",
        "    plt.imshow(re_x_shaped.detach().to(\"cpu\").numpy(), cmap=\"gray\")\n",
        "    plt.title(f\"Latent dimensions = {2**(k+1)}\")\n",
        "    plt.axis(False)\n",
        "    plt.subplots_adjust(bottom=0.1, top=0.9)\n",
        "\n",
        "plt.tight_layout()\n",
        "plt.savefig('plot.png')"
      ],
      "metadata": {
        "colab": {
          "base_uri": "https://localhost:8080/",
          "height": 1000
        },
        "id": "efHXF2N8_DPr",
        "outputId": "9518e2fe-f4b9-4f8e-b688-08d0cd1ceb10"
      },
      "execution_count": null,
      "outputs": [
        {
          "output_type": "display_data",
          "data": {
            "text/plain": [
              "<Figure size 1300x1300 with 35 Axes>"
            ],
            "image/png": "[encoded data removed]"
          },
          "metadata": {}
        }
      ]
    },
    {
      "cell_type": "code",
      "execution_count": null,
      "metadata": {
        "id": "7tbOy5UQCRHN"
      },
      "outputs": [],
      "source": [
        "def mse(y_true, y_pred):\n",
        "    return np.mean((y_true - y_pred)**2)"
      ]
    },
    {
      "cell_type": "code",
      "source": [
        "mse_vals=[]\n",
        "test_dataloader = DataLoader(dataset = testset,\n",
        "                              batch_size = BATCH_SIZE,\n",
        "                              shuffle = False)\n",
        "\n",
        "for model in MODELS:\n",
        "  model.eval()\n",
        "  mse_val=0\n",
        "  with torch.inference_mode():\n",
        "    for x_test, y in test_dataloader:\n",
        "      _,_,re_x_test = model(x_test.flatten(start_dim=1).to(DEVICE))\n",
        "\n",
        "      x_test_flat = x_test.flatten().to(\"cpu\").numpy()\n",
        "      re_x_test_flat = re_x_test.flatten().detach().to(\"cpu\").numpy()\n",
        "\n",
        "      mse_val += mse(x_test_flat, re_x_test_flat)\n",
        "\n",
        "\n",
        "  mse_val /= len(test_dataloader)\n",
        "  mse_vals.append(mse_val)\n",
        "\n",
        "print(f\"MSE values are = {mse_vals}\")"
      ],
      "metadata": {
        "colab": {
          "base_uri": "https://localhost:8080/"
        },
        "id": "kFVhJMxTBwC0",
        "outputId": "74081160-cd67-4eef-b665-cfc752b660dd"
      },
      "execution_count": null,
      "outputs": [
        {
          "output_type": "stream",
          "name": "stdout",
          "text": [
            "MSE values are = [0.059044731073081495, 0.05195353992283344, 0.04281864296644926, 0.035697294492274524, 0.03363200068473816, 0.034396068155765534]\n"
          ]
        }
      ]
    },
    {
      "cell_type": "code",
      "source": [],
      "metadata": {
        "id": "G2u83C1Q4NZK"
      },
      "execution_count": null,
      "outputs": []
    }
  ],
  "metadata": {
    "accelerator": "GPU",
    "colab": {
      "gpuType": "T4",
      "provenance": []
    },
    "kernelspec": {
      "display_name": "Python 3",
      "name": "python3"
    },
    "language_info": {
      "codemirror_mode": {
        "name": "ipython",
        "version": 3
      },
      "file_extension": ".py",
      "mimetype": "text/x-python",
      "name": "python",
      "nbconvert_exporter": "python",
      "pygments_lexer": "ipython3",
      "version": "3.11.2"
    }
  },
  "nbformat": 4,
  "nbformat_minor": 0
}