{
  "cells": [
    {
      "cell_type": "code",
      "execution_count": 36,
      "metadata": {
        "id": "Puwk5YT4dNmS"
      },
      "outputs": [],
      "source": [
        "import numpy as np\n",
        "import torch\n",
        "import torch.nn as nn\n",
        "from keras.datasets import mnist\n",
        "from matplotlib import pyplot as plt\n",
        "import math\n",
        "from tqdm import tqdm\n",
        "import torchvision\n",
        "import torchvision.datasets"
      ]
    },
    {
      "cell_type": "code",
      "execution_count": 37,
      "metadata": {
        "id": "ky3llD3TdNmV"
      },
      "outputs": [],
      "source": [
        "EPOCHS = 5\n",
        "DEVICE = \"cuda\" if torch.cuda.is_available() else \"cpu\"\n",
        "MODELS = []\n",
        "BATCH_SIZE = 100"
      ]
    },
    {
      "cell_type": "code",
      "execution_count": 38,
      "metadata": {
        "id": "tPncJpRfdNmW"
      },
      "outputs": [],
      "source": [
        "# (train_X, _), (test_X, _) = mnist.load_data()\n",
        "# train_X = torch.from_numpy(train_X).float()\n",
        "# test_X = torch.from_numpy(test_X).float()\n",
        "# type(train_X)\n",
        "trainset = torchvision.datasets.MNIST(root='./data', train=True, download=True, transform=torchvision.transforms.ToTensor())\n",
        "testset = torchvision.datasets.MNIST(root='./data', train=False, download=True, transform=torchvision.transforms.ToTensor())"
      ]
    },
    {
      "cell_type": "code",
      "execution_count": 39,
      "metadata": {
        "id": "HAx-GcqbdNmW"
      },
      "outputs": [],
      "source": [
        "# trainset=trainset*2-1"
      ]
    },
    {
      "cell_type": "code",
      "execution_count": 40,
      "metadata": {
        "id": "yJj1VB2ddNmW",
        "colab": {
          "base_uri": "https://localhost:8080/",
          "height": 430
        },
        "outputId": "3a1b4b01-273f-44bd-afd5-b47e7b16828c"
      },
      "outputs": [
        {
          "output_type": "display_data",
          "data": {
            "text/plain": [
              "<Figure size 640x480 with 1 Axes>"
            ],
            "image/png": "[encoded data removed]"
          },
          "metadata": {}
        }
      ],
      "source": [
        "plt.subplot()\n",
        "plt.imshow(trainset[0][0].squeeze(0), cmap=plt.get_cmap('gray'))\n",
        "plt.show()"
      ]
    },
    {
      "cell_type": "code",
      "execution_count": 41,
      "metadata": {
        "id": "kfgQ7V7V-FPR"
      },
      "outputs": [],
      "source": [
        "#DataLoader\n",
        "from torch.utils.data import DataLoader\n",
        "\n",
        "train_dataloader = DataLoader(dataset = trainset,\n",
        "                              batch_size = BATCH_SIZE,\n",
        "                              shuffle = True)\n",
        "\n",
        "test_dataloader = DataLoader(dataset = testset,\n",
        "                              batch_size = BATCH_SIZE,\n",
        "                              shuffle = False)"
      ]
    },
    {
      "cell_type": "code",
      "execution_count": 42,
      "metadata": {
        "id": "V_Nx3FEgdNmW"
      },
      "outputs": [],
      "source": [
        "class LatentfromX(nn.Module):\n",
        "    def __init__(self, input_channels, latent_dims):\n",
        "        super().__init__()\n",
        "        self.stack = nn.Sequential(\n",
        "            # nn.Conv2d(in_channels=input_channels, out_channels=3, kernel_size=4),\n",
        "            # nn.ReLU(),\n",
        "            # nn.MaxPool2d(kernel_size=2),\n",
        "            # nn.Conv2d(in_channels=3, out_channels=3, kernel_size=2),\n",
        "            # nn.ReLU(),\n",
        "            nn.Linear(in_features = input_channels, out_features = 256),\n",
        "            nn.Tanh(),\n",
        "            nn.Linear(in_features = 256, out_features = 64),\n",
        "            nn.Tanh()\n",
        "        )\n",
        "        self.mean_layer = nn.Sequential(\n",
        "            # nn.Flatten(),\n",
        "            # nn.Linear(in_features=11 * 11 * 3, out_features=latent_dims),\n",
        "            nn.Linear(in_features = 64, out_features = latent_dims),\n",
        "            nn.Tanh()\n",
        "        )\n",
        "        self.log_var_layer = nn.Sequential(\n",
        "            # nn.Flatten(),\n",
        "            nn.Linear(in_features=64, out_features=latent_dims),\n",
        "            nn.Tanh()\n",
        "        )\n",
        "\n",
        "    def forward(self, z):\n",
        "        z = self.stack(z)\n",
        "        return self.mean_layer(z), self.log_var_layer(z)"
      ]
    },
    {
      "cell_type": "code",
      "execution_count": 43,
      "metadata": {
        "id": "9CriqVy-dNmX"
      },
      "outputs": [],
      "source": [
        "class ReconstructFromLatent(nn.Module):\n",
        "    def __init__(self, latent_dims, output_dims):\n",
        "        super().__init__()\n",
        "        self.stack = nn.Sequential(\n",
        "            nn.Linear(in_features=latent_dims, out_features=196),\n",
        "            nn.Tanh(),\n",
        "            nn.Linear(in_features=196, out_features=256),\n",
        "            nn.Tanh(),\n",
        "            nn.Linear(in_features=256, out_features=576),\n",
        "            nn.Tanh(),\n",
        "        )\n",
        "        self.reconstruct = nn.Sequential(\n",
        "            nn.Linear(in_features=576, out_features=output_dims),\n",
        "            nn.Sigmoid(),\n",
        "        )\n",
        "        # self.mean_layer = nn.Sequential(\n",
        "        #     nn.Linear(in_features=576, out_features=output_dims),\n",
        "        #     nn.Tanh(),\n",
        "        # )\n",
        "        # self.log_std_layer = nn.Sequential(\n",
        "        #     nn.Linear(in_features=576, out_features=output_dims),\n",
        "        #     nn.Tanh(),\n",
        "        # )\n",
        "\n",
        "    def forward(self, x):\n",
        "        x = self.stack(x)\n",
        "        return self.reconstruct(x)"
      ]
    },
    {
      "cell_type": "code",
      "execution_count": 44,
      "metadata": {
        "id": "2P9Yq3dSdNma"
      },
      "outputs": [],
      "source": [
        "class VAE(nn.Module):\n",
        "    def __init__(self, latent_dims):\n",
        "        super().__init__()\n",
        "        #q(z|x)\n",
        "        self.qz_x = LatentfromX(input_channels=28*28, latent_dims=latent_dims)\n",
        "        #p(x|z)\n",
        "        self.px_z = ReconstructFromLatent(latent_dims=latent_dims, output_dims=28*28)\n",
        "\n",
        "    def forward(self, x):\n",
        "        z_mean, z_log_var = self.qz_x(x)\n",
        "        # reparameterized = z_mean + (torch.exp(z_log_var * 0.5) * np.random.normal(0, 1))\n",
        "        reparameterized = z_mean + (torch.exp(z_log_var * 0.5) * torch.randn_like(z_log_var).to(DEVICE))\n",
        "        reconstructed_x = self.px_z(reparameterized)\n",
        "        return z_mean, z_log_var, reconstructed_x"
      ]
    },
    {
      "cell_type": "code",
      "execution_count": 45,
      "metadata": {
        "id": "ku2a_eYXdNmb",
        "colab": {
          "base_uri": "https://localhost:8080/"
        },
        "outputId": "4a1cd893-a877-465d-a3f3-69797838a507"
      },
      "outputs": [
        {
          "output_type": "stream",
          "name": "stderr",
          "text": [
            "600it [00:22, 26.21it/s]\n"
          ]
        },
        {
          "output_type": "stream",
          "name": "stdout",
          "text": [
            "\n",
            "latent_dim: 2 | epoch: 1 | re_loss: 3090101.75 | kl_div: 44005.17 | loss: 3134107.00\n"
          ]
        },
        {
          "output_type": "stream",
          "name": "stderr",
          "text": [
            "600it [00:21, 27.99it/s]\n"
          ]
        },
        {
          "output_type": "stream",
          "name": "stdout",
          "text": [
            "\n",
            "latent_dim: 2 | epoch: 2 | re_loss: 2813689.50 | kl_div: 65252.89 | loss: 2878942.50\n"
          ]
        },
        {
          "output_type": "stream",
          "name": "stderr",
          "text": [
            "600it [00:20, 28.98it/s]\n"
          ]
        },
        {
          "output_type": "stream",
          "name": "stdout",
          "text": [
            "\n",
            "latent_dim: 2 | epoch: 3 | re_loss: 2802014.50 | kl_div: 65122.88 | loss: 2867137.50\n"
          ]
        },
        {
          "output_type": "stream",
          "name": "stderr",
          "text": [
            "600it [00:20, 29.84it/s]\n"
          ]
        },
        {
          "output_type": "stream",
          "name": "stdout",
          "text": [
            "\n",
            "latent_dim: 2 | epoch: 4 | re_loss: 2796078.75 | kl_div: 64994.09 | loss: 2861072.75\n"
          ]
        },
        {
          "output_type": "stream",
          "name": "stderr",
          "text": [
            "600it [00:21, 28.50it/s]\n"
          ]
        },
        {
          "output_type": "stream",
          "name": "stdout",
          "text": [
            "\n",
            "latent_dim: 2 | epoch: 5 | re_loss: 2791347.25 | kl_div: 65066.18 | loss: 2856413.50\n"
          ]
        },
        {
          "output_type": "stream",
          "name": "stderr",
          "text": [
            "600it [00:19, 30.80it/s]\n"
          ]
        },
        {
          "output_type": "stream",
          "name": "stdout",
          "text": [
            "\n",
            "latent_dim: 4 | epoch: 1 | re_loss: 2943639.50 | kl_div: 80558.21 | loss: 3024197.75\n"
          ]
        },
        {
          "output_type": "stream",
          "name": "stderr",
          "text": [
            "600it [00:20, 29.73it/s]\n"
          ]
        },
        {
          "output_type": "stream",
          "name": "stdout",
          "text": [
            "\n",
            "latent_dim: 4 | epoch: 2 | re_loss: 2511834.00 | kl_div: 133991.28 | loss: 2645825.25\n"
          ]
        },
        {
          "output_type": "stream",
          "name": "stderr",
          "text": [
            "600it [00:19, 30.56it/s]\n"
          ]
        },
        {
          "output_type": "stream",
          "name": "stdout",
          "text": [
            "\n",
            "latent_dim: 4 | epoch: 3 | re_loss: 2470840.75 | kl_div: 138475.63 | loss: 2609316.50\n"
          ]
        },
        {
          "output_type": "stream",
          "name": "stderr",
          "text": [
            "600it [00:19, 30.18it/s]\n"
          ]
        },
        {
          "output_type": "stream",
          "name": "stdout",
          "text": [
            "\n",
            "latent_dim: 4 | epoch: 4 | re_loss: 2466814.75 | kl_div: 139686.44 | loss: 2606501.25\n"
          ]
        },
        {
          "output_type": "stream",
          "name": "stderr",
          "text": [
            "600it [00:20, 29.69it/s]\n"
          ]
        },
        {
          "output_type": "stream",
          "name": "stdout",
          "text": [
            "\n",
            "latent_dim: 4 | epoch: 5 | re_loss: 2453554.75 | kl_div: 139801.06 | loss: 2593355.75\n"
          ]
        },
        {
          "output_type": "stream",
          "name": "stderr",
          "text": [
            "600it [00:19, 30.86it/s]\n"
          ]
        },
        {
          "output_type": "stream",
          "name": "stdout",
          "text": [
            "\n",
            "latent_dim: 8 | epoch: 1 | re_loss: 2972010.50 | kl_div: 96617.31 | loss: 3068627.75\n"
          ]
        },
        {
          "output_type": "stream",
          "name": "stderr",
          "text": [
            "600it [00:21, 28.22it/s]\n"
          ]
        },
        {
          "output_type": "stream",
          "name": "stdout",
          "text": [
            "\n",
            "latent_dim: 8 | epoch: 2 | re_loss: 2291587.25 | kl_div: 230521.29 | loss: 2522108.50\n"
          ]
        },
        {
          "output_type": "stream",
          "name": "stderr",
          "text": [
            "600it [00:33, 18.04it/s]\n"
          ]
        },
        {
          "output_type": "stream",
          "name": "stdout",
          "text": [
            "\n",
            "latent_dim: 8 | epoch: 3 | re_loss: 2136051.50 | kl_div: 259864.55 | loss: 2395916.00\n"
          ]
        },
        {
          "output_type": "stream",
          "name": "stderr",
          "text": [
            "600it [00:23, 25.45it/s]\n"
          ]
        },
        {
          "output_type": "stream",
          "name": "stdout",
          "text": [
            "\n",
            "latent_dim: 8 | epoch: 4 | re_loss: 2080659.75 | kl_div: 268251.49 | loss: 2348911.25\n"
          ]
        },
        {
          "output_type": "stream",
          "name": "stderr",
          "text": [
            "600it [00:20, 29.76it/s]\n"
          ]
        },
        {
          "output_type": "stream",
          "name": "stdout",
          "text": [
            "\n",
            "latent_dim: 8 | epoch: 5 | re_loss: 2049970.00 | kl_div: 272556.43 | loss: 2322526.50\n"
          ]
        },
        {
          "output_type": "stream",
          "name": "stderr",
          "text": [
            "600it [00:19, 30.60it/s]\n"
          ]
        },
        {
          "output_type": "stream",
          "name": "stdout",
          "text": [
            "\n",
            "latent_dim: 16 | epoch: 1 | re_loss: 2976841.00 | kl_div: 110233.37 | loss: 3087074.25\n"
          ]
        },
        {
          "output_type": "stream",
          "name": "stderr",
          "text": [
            "600it [00:20, 29.76it/s]\n"
          ]
        },
        {
          "output_type": "stream",
          "name": "stdout",
          "text": [
            "\n",
            "latent_dim: 16 | epoch: 2 | re_loss: 2183324.75 | kl_div: 309612.37 | loss: 2492937.00\n"
          ]
        },
        {
          "output_type": "stream",
          "name": "stderr",
          "text": [
            "600it [00:21, 28.29it/s]\n"
          ]
        },
        {
          "output_type": "stream",
          "name": "stdout",
          "text": [
            "\n",
            "latent_dim: 16 | epoch: 3 | re_loss: 1958635.12 | kl_div: 372733.07 | loss: 2331368.25\n"
          ]
        },
        {
          "output_type": "stream",
          "name": "stderr",
          "text": [
            "600it [00:19, 30.96it/s]\n"
          ]
        },
        {
          "output_type": "stream",
          "name": "stdout",
          "text": [
            "\n",
            "latent_dim: 16 | epoch: 4 | re_loss: 1852539.38 | kl_div: 406238.92 | loss: 2258778.25\n"
          ]
        },
        {
          "output_type": "stream",
          "name": "stderr",
          "text": [
            "600it [00:22, 27.00it/s]\n"
          ]
        },
        {
          "output_type": "stream",
          "name": "stdout",
          "text": [
            "\n",
            "latent_dim: 16 | epoch: 5 | re_loss: 1778912.88 | kl_div: 434839.96 | loss: 2213752.75\n"
          ]
        },
        {
          "output_type": "stream",
          "name": "stderr",
          "text": [
            "600it [00:20, 29.50it/s]\n"
          ]
        },
        {
          "output_type": "stream",
          "name": "stdout",
          "text": [
            "\n",
            "latent_dim: 32 | epoch: 1 | re_loss: 2857579.25 | kl_div: 155181.82 | loss: 3012761.00\n"
          ]
        },
        {
          "output_type": "stream",
          "name": "stderr",
          "text": [
            "600it [00:19, 30.94it/s]\n"
          ]
        },
        {
          "output_type": "stream",
          "name": "stdout",
          "text": [
            "\n",
            "latent_dim: 32 | epoch: 2 | re_loss: 2102094.25 | kl_div: 358412.79 | loss: 2460507.00\n"
          ]
        },
        {
          "output_type": "stream",
          "name": "stderr",
          "text": [
            "600it [00:20, 29.56it/s]\n"
          ]
        },
        {
          "output_type": "stream",
          "name": "stdout",
          "text": [
            "\n",
            "latent_dim: 32 | epoch: 3 | re_loss: 1929794.00 | kl_div: 405309.40 | loss: 2335103.50\n"
          ]
        },
        {
          "output_type": "stream",
          "name": "stderr",
          "text": [
            "600it [00:19, 30.75it/s]\n"
          ]
        },
        {
          "output_type": "stream",
          "name": "stdout",
          "text": [
            "\n",
            "latent_dim: 32 | epoch: 4 | re_loss: 1817801.12 | kl_div: 442658.37 | loss: 2260459.50\n"
          ]
        },
        {
          "output_type": "stream",
          "name": "stderr",
          "text": [
            "600it [00:20, 29.58it/s]\n"
          ]
        },
        {
          "output_type": "stream",
          "name": "stdout",
          "text": [
            "\n",
            "latent_dim: 32 | epoch: 5 | re_loss: 1755269.38 | kl_div: 462019.98 | loss: 2217289.25\n"
          ]
        },
        {
          "output_type": "stream",
          "name": "stderr",
          "text": [
            "600it [00:20, 29.49it/s]\n"
          ]
        },
        {
          "output_type": "stream",
          "name": "stdout",
          "text": [
            "\n",
            "latent_dim: 64 | epoch: 1 | re_loss: 2960081.50 | kl_div: 145461.01 | loss: 3105542.50\n"
          ]
        },
        {
          "output_type": "stream",
          "name": "stderr",
          "text": [
            "600it [00:19, 30.63it/s]\n"
          ]
        },
        {
          "output_type": "stream",
          "name": "stdout",
          "text": [
            "\n",
            "latent_dim: 64 | epoch: 2 | re_loss: 2194529.00 | kl_div: 347976.72 | loss: 2542505.75\n"
          ]
        },
        {
          "output_type": "stream",
          "name": "stderr",
          "text": [
            "600it [00:20, 29.63it/s]\n"
          ]
        },
        {
          "output_type": "stream",
          "name": "stdout",
          "text": [
            "\n",
            "latent_dim: 64 | epoch: 3 | re_loss: 1985457.12 | kl_div: 403101.68 | loss: 2388558.75\n"
          ]
        },
        {
          "output_type": "stream",
          "name": "stderr",
          "text": [
            "600it [00:19, 30.70it/s]\n"
          ]
        },
        {
          "output_type": "stream",
          "name": "stdout",
          "text": [
            "\n",
            "latent_dim: 64 | epoch: 4 | re_loss: 1865732.12 | kl_div: 440581.82 | loss: 2306314.00\n"
          ]
        },
        {
          "output_type": "stream",
          "name": "stderr",
          "text": [
            "600it [00:20, 29.37it/s]"
          ]
        },
        {
          "output_type": "stream",
          "name": "stdout",
          "text": [
            "\n",
            "latent_dim: 64 | epoch: 5 | re_loss: 1790845.12 | kl_div: 462371.80 | loss: 2253217.00\n"
          ]
        },
        {
          "output_type": "stream",
          "name": "stderr",
          "text": [
            "\n"
          ]
        }
      ],
      "source": [
        "reconstruction_error_history = []\n",
        "kl_div_error_history= []\n",
        "total_error_history = []\n",
        "for i in range(6):\n",
        "  reconstruction_error_history.append([])\n",
        "  kl_div_error_history.append([])\n",
        "  total_error_history.append([])\n",
        "  latent_dims = 2**(i+1)\n",
        "  VAEModel = VAE(latent_dims=latent_dims).to(DEVICE)\n",
        "  optimizer = torch.optim.Adam(params=VAEModel.parameters(), lr=1e-3)\n",
        "  loss_fn = nn.MSELoss(reduction=\"sum\")\n",
        "  VAEModel.train()\n",
        "  for epoch in (range(EPOCHS)):\n",
        "      loss=0\n",
        "      total_reconstruction_error = 0\n",
        "      total_kl_div_error = 0\n",
        "      total_error = 0\n",
        "      for batch, (x,y) in tqdm(enumerate(train_dataloader)):\n",
        "          # x=2*x-1\n",
        "          # print(x.shape)\n",
        "          x=x.view(BATCH_SIZE, 28*28).to(DEVICE)\n",
        "          z_mean, z_log_var, reconstructed_x = VAEModel(x.to(DEVICE))\n",
        "          # print(x.flatten(start_dim=1).shape, reconstructed_x.shape)\n",
        "          reconstruction_error = loss_fn(reconstructed_x.to(DEVICE), x.flatten(start_dim=1).to(DEVICE))\n",
        "          # print(reconstruction_error.shape)\n",
        "          # kl_div_error = torch.mean(0.5*torch.sum(torch.exp(z_log_var) + z_mean**2 -1 - z_log_var, dim=-1))\n",
        "          kl_div_error = torch.sum(0.5*torch.sum(torch.exp(z_log_var) + z_mean**2 -1 - z_log_var, dim=-1))\n",
        "          # print(kl_div_error.shape, reconstruction_error.shape)\n",
        "          # loss=reconstruction_error+0.00001*kl_div_error\n",
        "          loss=reconstruction_error+kl_div_error\n",
        "\n",
        "          total_reconstruction_error += reconstruction_error\n",
        "        #   print(reconstruction_error, kl_div_error)\n",
        "          total_kl_div_error += torch.mean(kl_div_error).item()\n",
        "\n",
        "          optimizer.zero_grad()\n",
        "          # print(loss.shape)\n",
        "          loss.backward()\n",
        "          optimizer.step()\n",
        "\n",
        "    #   total_reconstruction_error/=len(trainset)\n",
        "    #   total_kl_div_error/=len(trainset)\n",
        "      total_error = total_reconstruction_error + total_kl_div_error\n",
        "\n",
        "      reconstruction_error_history[i].append(total_reconstruction_error)\n",
        "      kl_div_error_history[i].append(total_kl_div_error)\n",
        "      total_error_history[i].append(total_error)\n",
        "\n",
        "      print(f\"\\nlatent_dim: {latent_dims} | epoch: {epoch+1} | re_loss: {total_reconstruction_error:.2f} | kl_div: {total_kl_div_error:.2f} | loss: {total_error:.2f}\")\n",
        "  MODELS.append(VAEModel)\n"
      ]
    },
    {
      "cell_type": "code",
      "execution_count": 46,
      "metadata": {
        "id": "sIHMzZhXCF06"
      },
      "outputs": [],
      "source": [
        "# for k,model in enumerate(MODELS):\n",
        "#   model.eval()\n",
        "#   # torch.manual_seed(42)\n",
        "#   fig = plt.figure(figsize = (9, 9))\n",
        "#   fig.suptitle(f\"Latent dimension = {2**(k+1)}\")\n",
        "#   rows, cols = 5, 2\n",
        "#   imgs = []\n",
        "#   for i in range(5):\n",
        "#     imgs.append(testset[i])\n",
        "#   # for i in range(1, rows*cols+1):\n",
        "#   #   for img, label in imgs:\n",
        "\n",
        "#   #     # img, label = trainset[j]\n",
        "#   #     fig.add_subplot(rows, cols, i)\n",
        "#   #     plt.imshow(img.squeeze(), cmap = \"gray\")\n",
        "#   #     plt.title(class_names[label])\n",
        "#   #     plt.axis(False)\n",
        "#   index = 0\n",
        "#   test_features_batch, test_labels_batch = next(iter(test_dataloader))\n",
        "#   for row in range(rows):\n",
        "#     fig.add_subplot(rows, cols, row*2 + 1)\n",
        "#     plt.imshow(test_features_batch[index].squeeze(), cmap=\"gray\")\n",
        "#     plt.title(\"Original\")\n",
        "#     plt.axis(False)\n",
        "#     with torch.inference_mode():\n",
        "#       fig.add_subplot(rows, cols, row*2 + 2)\n",
        "#       _,_,re_x = model(test_features_batch.flatten(start_dim=1).to(DEVICE))\n",
        "#       # re_x = torch.log(re_x+1)*255\n",
        "#       # re_x = (re_x+1)/2\n",
        "#       re_x=re_x[index].reshape(28,28)\n",
        "#       plt.imshow(re_x.detach().to(\"cpu\").numpy(), cmap=\"gray\")\n",
        "#       plt.title(\"Reconstructed\")\n",
        "#       plt.axis(False)\n",
        "\n",
        "#     index+=1"
      ]
    },
    {
      "cell_type": "code",
      "source": [
        "fig = plt.figure(figsize = (13, 13))\n",
        "rows, cols = 7, 5\n",
        "\n",
        "test_features_batch, test_labels_batch = next(iter(test_dataloader))\n",
        "for j in range(5):\n",
        "  fig.add_subplot(rows, cols, j+1)\n",
        "  plt.imshow(test_features_batch[j].squeeze(), cmap=\"gray\")\n",
        "  plt.title(\"Original\")\n",
        "  plt.axis(False)\n",
        "  plt.subplots_adjust(hspace=0.4)\n",
        "\n",
        "for k,model in enumerate(MODELS):\n",
        "  model.eval()\n",
        "\n",
        "  with torch.inference_mode():\n",
        "    _,_,re_x = model(test_features_batch.flatten(start_dim=1).to(DEVICE))\n",
        "\n",
        "  for j in range(5):\n",
        "    re_x_shaped=re_x[j].reshape(28,28)\n",
        "\n",
        "    fig.add_subplot(rows, cols, (k+1)*5+(j+1))\n",
        "    plt.imshow(re_x_shaped.detach().to(\"cpu\").numpy(), cmap=\"gray\")\n",
        "    plt.title(f\"Latent dimensions = {2**(k+1)}\")\n",
        "    plt.axis(False)\n",
        "    plt.subplots_adjust(bottom=0.1, top=0.9)"
      ],
      "metadata": {
        "colab": {
          "base_uri": "https://localhost:8080/",
          "height": 1000
        },
        "id": "efHXF2N8_DPr",
        "outputId": "397c29ca-b98c-488a-d043-fbe1e3f94401"
      },
      "execution_count": 47,
      "outputs": [
        {
          "output_type": "display_data",
          "data": {
            "text/plain": [
              "<Figure size 1300x1300 with 35 Axes>"
            ],
            "image/png": "[encoded data removed]"
          },
          "metadata": {}
        }
      ]
    },
    {
      "cell_type": "code",
      "execution_count": 48,
      "metadata": {
        "id": "7tbOy5UQCRHN"
      },
      "outputs": [],
      "source": [
        "def mse(y_true, y_pred):\n",
        "    return np.sum((y_true - y_pred)**2)"
      ]
    },
    {
      "cell_type": "code",
      "source": [
        "mse_vals=[]\n",
        "test_dataloader = DataLoader(dataset = testset,\n",
        "                              batch_size = BATCH_SIZE,\n",
        "                              shuffle = False)\n",
        "\n",
        "for model in MODELS:\n",
        "  model.eval()\n",
        "  mse_val=0\n",
        "  with torch.inference_mode():\n",
        "    for x_test, y in test_dataloader:\n",
        "      _,_,re_x_test = model(x_test.flatten(start_dim=1).to(DEVICE))\n",
        "\n",
        "      x_test_flat = x_test.flatten().to(\"cpu\").numpy()\n",
        "      re_x_test_flat = re_x_test.flatten().detach().to(\"cpu\").numpy()\n",
        "\n",
        "      mse_val += mse(x_test_flat, re_x_test_flat)\n",
        "\n",
        "\n",
        "  mse_val /= len(testset)\n",
        "  mse_vals.append(mse_val)\n",
        "\n",
        "print(f\"MSE values are = {mse_vals}\")"
      ],
      "metadata": {
        "colab": {
          "base_uri": "https://localhost:8080/"
        },
        "id": "kFVhJMxTBwC0",
        "outputId": "b9937788-561a-4f2c-8f6f-1e5c3250c095"
      },
      "execution_count": 50,
      "outputs": [
        {
          "output_type": "stream",
          "name": "stdout",
          "text": [
            "MSE values are = [46.50078955078125, 40.92877468261719, 33.81099011230469, 28.9330943359375, 28.973575048828124, 29.06528957519531]\n"
          ]
        }
      ]
    },
    {
      "cell_type": "code",
      "source": [],
      "metadata": {
        "id": "vr4WIu6MG1iS"
      },
      "execution_count": 49,
      "outputs": []
    }
  ],
  "metadata": {
    "accelerator": "GPU",
    "colab": {
      "gpuType": "T4",
      "provenance": []
    },
    "kernelspec": {
      "display_name": "Python 3",
      "name": "python3"
    },
    "language_info": {
      "codemirror_mode": {
        "name": "ipython",
        "version": 3
      },
      "file_extension": ".py",
      "mimetype": "text/x-python",
      "name": "python",
      "nbconvert_exporter": "python",
      "pygments_lexer": "ipython3",
      "version": "3.11.2"
    }
  },
  "nbformat": 4,
  "nbformat_minor": 0
}